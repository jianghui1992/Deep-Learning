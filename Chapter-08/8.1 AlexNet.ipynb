{
 "cells": [
  {
   "cell_type": "markdown",
   "id": "061374ac",
   "metadata": {},
   "source": [
    "### AlexNet代码实现"
   ]
  },
  {
   "cell_type": "code",
   "execution_count": 1,
   "id": "a4d62b41",
   "metadata": {},
   "outputs": [],
   "source": [
    "# 导入必要的库，torchinfo用于查看模型结构\n",
    "import torch\n",
    "import torch.nn as nn\n",
    "from torchinfo import summary"
   ]
  },
  {
   "cell_type": "markdown",
   "id": "52eff219",
   "metadata": {},
   "source": [
    "### 结构定义"
   ]
  },
  {
   "cell_type": "code",
   "execution_count": 2,
   "id": "057ce823",
   "metadata": {},
   "outputs": [],
   "source": [
    "# 定义AlexNet的网络结构\n",
    "class AlexNet(nn.Module):\n",
    "    def __init__(self, num_classes=1000, dropout=0.5):\n",
    "        super().__init__()\n",
    "        # 定义卷积层\n",
    "        self.features = nn.Sequential(\n",
    "            # 卷积+ReLU+最大池化\n",
    "            # 原始论文是在2个GPU上训练(每个48通道),后续都是单GPU/CPU训练,简化为64通道\n",
    "            # 这一调整既能保持模型的基本结构，又能减少约 30% 的参数量，提高训练效率\n",
    "            nn.Conv2d(3, 64, kernel_size=11, stride=4, padding=2),\n",
    "            # inplace=False:默认值,经过Relu是生成一个新的变量,True:直接原地修改输入\n",
    "            # 可以节省内存占用,但是需要注意原始输入没有依赖才可以使用\n",
    "            nn.ReLU(inplace=True),\n",
    "            nn.MaxPool2d(kernel_size=3, stride=2),\n",
    "            # 卷积+ReLU+最大池化\n",
    "            nn.Conv2d(64, 192, kernel_size=5, padding=2),\n",
    "            nn.ReLU(inplace=True),\n",
    "            nn.MaxPool2d(kernel_size=3, stride=2),\n",
    "            # 卷积+ReLU\n",
    "            nn.Conv2d(192, 384, kernel_size=3, padding=1),\n",
    "            nn.ReLU(inplace=True),\n",
    "            # 卷积+ReLU\n",
    "            nn.Conv2d(384, 256, kernel_size=3, padding=1),\n",
    "            nn.ReLU(inplace=True),\n",
    "            # 卷积+ReLU\n",
    "            nn.Conv2d(256, 256, kernel_size=3, padding=1),\n",
    "            nn.ReLU(inplace=True),\n",
    "            # 最大池化\n",
    "            nn.MaxPool2d(kernel_size=3, stride=2),\n",
    "        )\n",
    "        # 自适应平均池化 : 它指定的是输出特征图的尺寸，而非池化窗口的大小或步长\n",
    "        self.avgpool = nn.AdaptiveAvgPool2d((6, 6))\n",
    "        # 定义全连接层\n",
    "        self.classifier = nn.Sequential(\n",
    "            # Dropout+全连接层+ReLU\n",
    "            nn.Dropout(p=dropout),\n",
    "            nn.Linear(256 * 6 * 6, 4096),\n",
    "            nn.ReLU(inplace=True),\n",
    "            # Dropout+全连接层+ReLU\n",
    "            nn.Dropout(p=dropout),\n",
    "            nn.Linear(4096, 4096),\n",
    "            nn.ReLU(inplace=True),\n",
    "            # 全连接层\n",
    "            nn.Linear(4096, num_classes),\n",
    "        )\n",
    "\n",
    "    # 定义前向传播函数\n",
    "    def forward(self, x):\n",
    "        x = self.features(x)        # 提取特征\n",
    "        x = self.avgpool(x)         # 平均池化\n",
    "        x = torch.flatten(x, 1)     # 转换为1维张量\n",
    "        x = self.classifier(x)      # 使用全连接层训练\n",
    "        return x"
   ]
  },
  {
   "cell_type": "markdown",
   "id": "496298fd",
   "metadata": {},
   "source": [
    "### 网络结构"
   ]
  },
  {
   "cell_type": "code",
   "execution_count": 3,
   "id": "3ebca16f",
   "metadata": {
    "scrolled": false
   },
   "outputs": [
    {
     "data": {
      "text/plain": [
       "==========================================================================================\n",
       "Layer (type:depth-idx)                   Output Shape              Param #\n",
       "==========================================================================================\n",
       "AlexNet                                  [1, 1000]                 --\n",
       "├─Sequential: 1-1                        [1, 256, 6, 6]            --\n",
       "│    └─Conv2d: 2-1                       [1, 64, 55, 55]           23,296\n",
       "│    └─ReLU: 2-2                         [1, 64, 55, 55]           --\n",
       "│    └─MaxPool2d: 2-3                    [1, 64, 27, 27]           --\n",
       "│    └─Conv2d: 2-4                       [1, 192, 27, 27]          307,392\n",
       "│    └─ReLU: 2-5                         [1, 192, 27, 27]          --\n",
       "│    └─MaxPool2d: 2-6                    [1, 192, 13, 13]          --\n",
       "│    └─Conv2d: 2-7                       [1, 384, 13, 13]          663,936\n",
       "│    └─ReLU: 2-8                         [1, 384, 13, 13]          --\n",
       "│    └─Conv2d: 2-9                       [1, 256, 13, 13]          884,992\n",
       "│    └─ReLU: 2-10                        [1, 256, 13, 13]          --\n",
       "│    └─Conv2d: 2-11                      [1, 256, 13, 13]          590,080\n",
       "│    └─ReLU: 2-12                        [1, 256, 13, 13]          --\n",
       "│    └─MaxPool2d: 2-13                   [1, 256, 6, 6]            --\n",
       "├─AdaptiveAvgPool2d: 1-2                 [1, 256, 6, 6]            --\n",
       "├─Sequential: 1-3                        [1, 1000]                 --\n",
       "│    └─Dropout: 2-14                     [1, 9216]                 --\n",
       "│    └─Linear: 2-15                      [1, 4096]                 37,752,832\n",
       "│    └─ReLU: 2-16                        [1, 4096]                 --\n",
       "│    └─Dropout: 2-17                     [1, 4096]                 --\n",
       "│    └─Linear: 2-18                      [1, 4096]                 16,781,312\n",
       "│    └─ReLU: 2-19                        [1, 4096]                 --\n",
       "│    └─Linear: 2-20                      [1, 1000]                 4,097,000\n",
       "==========================================================================================\n",
       "Total params: 61,100,840\n",
       "Trainable params: 61,100,840\n",
       "Non-trainable params: 0\n",
       "Total mult-adds (Units.MEGABYTES): 714.68\n",
       "==========================================================================================\n",
       "Input size (MB): 0.60\n",
       "Forward/backward pass size (MB): 3.95\n",
       "Params size (MB): 244.40\n",
       "Estimated Total Size (MB): 248.96\n",
       "=========================================================================================="
      ]
     },
     "execution_count": 3,
     "metadata": {},
     "output_type": "execute_result"
    }
   ],
   "source": [
    "# 查看模型结构及参数量，input_size表示示例输入数据的维度信息\n",
    "summary(AlexNet(), input_size=(1, 3, 224, 224))"
   ]
  },
  {
   "cell_type": "markdown",
   "id": "4b837b9c",
   "metadata": {},
   "source": [
    "### torchvision"
   ]
  },
  {
   "cell_type": "code",
   "execution_count": 4,
   "id": "66df0e0e",
   "metadata": {},
   "outputs": [
    {
     "data": {
      "text/plain": [
       "==========================================================================================\n",
       "Layer (type:depth-idx)                   Output Shape              Param #\n",
       "==========================================================================================\n",
       "AlexNet                                  [1, 1000]                 --\n",
       "├─Sequential: 1-1                        [1, 256, 6, 6]            --\n",
       "│    └─Conv2d: 2-1                       [1, 64, 55, 55]           23,296\n",
       "│    └─ReLU: 2-2                         [1, 64, 55, 55]           --\n",
       "│    └─MaxPool2d: 2-3                    [1, 64, 27, 27]           --\n",
       "│    └─Conv2d: 2-4                       [1, 192, 27, 27]          307,392\n",
       "│    └─ReLU: 2-5                         [1, 192, 27, 27]          --\n",
       "│    └─MaxPool2d: 2-6                    [1, 192, 13, 13]          --\n",
       "│    └─Conv2d: 2-7                       [1, 384, 13, 13]          663,936\n",
       "│    └─ReLU: 2-8                         [1, 384, 13, 13]          --\n",
       "│    └─Conv2d: 2-9                       [1, 256, 13, 13]          884,992\n",
       "│    └─ReLU: 2-10                        [1, 256, 13, 13]          --\n",
       "│    └─Conv2d: 2-11                      [1, 256, 13, 13]          590,080\n",
       "│    └─ReLU: 2-12                        [1, 256, 13, 13]          --\n",
       "│    └─MaxPool2d: 2-13                   [1, 256, 6, 6]            --\n",
       "├─AdaptiveAvgPool2d: 1-2                 [1, 256, 6, 6]            --\n",
       "├─Sequential: 1-3                        [1, 1000]                 --\n",
       "│    └─Dropout: 2-14                     [1, 9216]                 --\n",
       "│    └─Linear: 2-15                      [1, 4096]                 37,752,832\n",
       "│    └─ReLU: 2-16                        [1, 4096]                 --\n",
       "│    └─Dropout: 2-17                     [1, 4096]                 --\n",
       "│    └─Linear: 2-18                      [1, 4096]                 16,781,312\n",
       "│    └─ReLU: 2-19                        [1, 4096]                 --\n",
       "│    └─Linear: 2-20                      [1, 1000]                 4,097,000\n",
       "==========================================================================================\n",
       "Total params: 61,100,840\n",
       "Trainable params: 61,100,840\n",
       "Non-trainable params: 0\n",
       "Total mult-adds (Units.MEGABYTES): 714.68\n",
       "==========================================================================================\n",
       "Input size (MB): 0.60\n",
       "Forward/backward pass size (MB): 3.95\n",
       "Params size (MB): 244.40\n",
       "Estimated Total Size (MB): 248.96\n",
       "=========================================================================================="
      ]
     },
     "execution_count": 4,
     "metadata": {},
     "output_type": "execute_result"
    }
   ],
   "source": [
    "# 查看torchvision自带的模型结构及参数量\n",
    "from torchvision import models\n",
    "summary(models.alexnet(), input_size=(1, 3, 224, 224))"
   ]
  },
  {
   "cell_type": "markdown",
   "id": "6b551b49",
   "metadata": {},
   "source": [
    "### mac GPU加速配置"
   ]
  },
  {
   "cell_type": "code",
   "execution_count": 5,
   "id": "155dbc2f",
   "metadata": {},
   "outputs": [
    {
     "name": "stdout",
     "output_type": "stream",
     "text": [
      "2.2.2\n",
      "True\n",
      "True\n",
      "使用训练设备: mps\n"
     ]
    }
   ],
   "source": [
    "import torch\n",
    "# 首先确认您的 PyTorch 版本是否支持 Metal 后端（Apple GPU 加速）\n",
    "print(torch.version.__version__)  # 应显示2.0.0或更高\n",
    "print(torch.backends.mps.is_available())  # 应显示True\n",
    "print(torch.backends.mps.is_built())     # 应显示True\n",
    "\n",
    "# 设备配置 - 启用AMD Radeon GPU加速\n",
    "# 设置设备，优先使用GPU\n",
    "device = torch.device(\"cuda:0\" if torch.cuda.is_available() else \"mps\" if torch.backends.mps.is_available() else \"cpu\")\n",
    "print(f\"使用训练设备: {device}\")"
   ]
  },
  {
   "cell_type": "markdown",
   "id": "5b09a91d",
   "metadata": {},
   "source": [
    "### 模型训练"
   ]
  },
  {
   "cell_type": "code",
   "execution_count": null,
   "id": "a52ec145",
   "metadata": {},
   "outputs": [
    {
     "name": "stdout",
     "output_type": "stream",
     "text": [
      "模型主设备: mps:0\n",
      "\n",
      "检查所有模型参数的设备:\n",
      "损失函数设备: N/A\n",
      "优化器参数设备: mps:0\n"
     ]
    },
    {
     "data": {
      "application/vnd.jupyter.widget-view+json": {
       "model_id": "e286109805464d8ca4c6a2e57eb9f1e6",
       "version_major": 2,
       "version_minor": 0
      },
      "text/plain": [
       "  0%|          | 0/50 [00:00<?, ?it/s]"
      ]
     },
     "metadata": {},
     "output_type": "display_data"
    },
    {
     "data": {
      "application/vnd.jupyter.widget-view+json": {
       "model_id": "521b0876045145e7923a620299810003",
       "version_major": 2,
       "version_minor": 0
      },
      "text/plain": [
       "train epoch 1/50:   0%|          | 0/97 [00:00<?, ?it/s]"
      ]
     },
     "metadata": {},
     "output_type": "display_data"
    },
    {
     "data": {
      "application/vnd.jupyter.widget-view+json": {
       "model_id": "af2e3ab86195442d981cad6baa9988f7",
       "version_major": 2,
       "version_minor": 0
      },
      "text/plain": [
       "test  epoch 1/50:   0%|          | 0/16 [00:00<?, ?it/s]"
      ]
     },
     "metadata": {},
     "output_type": "display_data"
    },
    {
     "name": "stdout",
     "output_type": "stream",
     "text": [
      "Epoch: 1   Loss: 2.6486   Accuracy: 0.0098  \n"
     ]
    },
    {
     "data": {
      "application/vnd.jupyter.widget-view+json": {
       "model_id": "66d050d518484cd2a1b9dc82b7ec3257",
       "version_major": 2,
       "version_minor": 0
      },
      "text/plain": [
       "train epoch 2/50:   0%|          | 0/97 [00:00<?, ?it/s]"
      ]
     },
     "metadata": {},
     "output_type": "display_data"
    },
    {
     "data": {
      "application/vnd.jupyter.widget-view+json": {
       "model_id": "a28235af49a54991a46d3849b2bf6ae3",
       "version_major": 2,
       "version_minor": 0
      },
      "text/plain": [
       "test  epoch 2/50:   0%|          | 0/16 [00:00<?, ?it/s]"
      ]
     },
     "metadata": {},
     "output_type": "display_data"
    },
    {
     "name": "stdout",
     "output_type": "stream",
     "text": [
      "Epoch: 2   Loss: 2.6596   Accuracy: 0.0098  \n"
     ]
    },
    {
     "data": {
      "application/vnd.jupyter.widget-view+json": {
       "model_id": "8892cae476dd48638a18aafbdb92e1a4",
       "version_major": 2,
       "version_minor": 0
      },
      "text/plain": [
       "train epoch 3/50:   0%|          | 0/97 [00:00<?, ?it/s]"
      ]
     },
     "metadata": {},
     "output_type": "display_data"
    },
    {
     "data": {
      "application/vnd.jupyter.widget-view+json": {
       "model_id": "eeab5eeed6fd4e308c25da2b6d56b8e4",
       "version_major": 2,
       "version_minor": 0
      },
      "text/plain": [
       "test  epoch 3/50:   0%|          | 0/16 [00:00<?, ?it/s]"
      ]
     },
     "metadata": {},
     "output_type": "display_data"
    },
    {
     "name": "stdout",
     "output_type": "stream",
     "text": [
      "Epoch: 3   Loss: 3.0175   Accuracy: 0.0098  \n"
     ]
    },
    {
     "data": {
      "application/vnd.jupyter.widget-view+json": {
       "model_id": "f056a2393da1485eb41aa7f219c0abfc",
       "version_major": 2,
       "version_minor": 0
      },
      "text/plain": [
       "train epoch 4/50:   0%|          | 0/97 [00:00<?, ?it/s]"
      ]
     },
     "metadata": {},
     "output_type": "display_data"
    },
    {
     "data": {
      "application/vnd.jupyter.widget-view+json": {
       "model_id": "b8145bc639954cefb2224fac93043b91",
       "version_major": 2,
       "version_minor": 0
      },
      "text/plain": [
       "test  epoch 4/50:   0%|          | 0/16 [00:00<?, ?it/s]"
      ]
     },
     "metadata": {},
     "output_type": "display_data"
    },
    {
     "name": "stdout",
     "output_type": "stream",
     "text": [
      "Epoch: 4   Loss: 3.5871   Accuracy: 0.0098  \n"
     ]
    },
    {
     "data": {
      "application/vnd.jupyter.widget-view+json": {
       "model_id": "4ee32722bf774c25b2501b2197faf5aa",
       "version_major": 2,
       "version_minor": 0
      },
      "text/plain": [
       "train epoch 5/50:   0%|          | 0/97 [00:00<?, ?it/s]"
      ]
     },
     "metadata": {},
     "output_type": "display_data"
    },
    {
     "data": {
      "application/vnd.jupyter.widget-view+json": {
       "model_id": "033711ac7a084b60a36553bb29fe65ee",
       "version_major": 2,
       "version_minor": 0
      },
      "text/plain": [
       "test  epoch 5/50:   0%|          | 0/16 [00:00<?, ?it/s]"
      ]
     },
     "metadata": {},
     "output_type": "display_data"
    },
    {
     "name": "stdout",
     "output_type": "stream",
     "text": [
      "Epoch: 5   Loss: 3.9198   Accuracy: 0.0098  \n"
     ]
    },
    {
     "data": {
      "application/vnd.jupyter.widget-view+json": {
       "model_id": "b2c126b19785482ca1ad12cc0d900359",
       "version_major": 2,
       "version_minor": 0
      },
      "text/plain": [
       "train epoch 6/50:   0%|          | 0/97 [00:00<?, ?it/s]"
      ]
     },
     "metadata": {},
     "output_type": "display_data"
    },
    {
     "data": {
      "application/vnd.jupyter.widget-view+json": {
       "model_id": "889fdd865ea34a98902bbd2c8ee6287e",
       "version_major": 2,
       "version_minor": 0
      },
      "text/plain": [
       "test  epoch 6/50:   0%|          | 0/16 [00:00<?, ?it/s]"
      ]
     },
     "metadata": {},
     "output_type": "display_data"
    },
    {
     "name": "stdout",
     "output_type": "stream",
     "text": [
      "Epoch: 6   Loss: 4.0087   Accuracy: 0.0098  \n"
     ]
    },
    {
     "data": {
      "application/vnd.jupyter.widget-view+json": {
       "model_id": "fc9c62edcaea4d9ca18ef393fb58128d",
       "version_major": 2,
       "version_minor": 0
      },
      "text/plain": [
       "train epoch 7/50:   0%|          | 0/97 [00:00<?, ?it/s]"
      ]
     },
     "metadata": {},
     "output_type": "display_data"
    },
    {
     "data": {
      "application/vnd.jupyter.widget-view+json": {
       "model_id": "257ffb0997e5496c901aa0177ab836a9",
       "version_major": 2,
       "version_minor": 0
      },
      "text/plain": [
       "test  epoch 7/50:   0%|          | 0/16 [00:00<?, ?it/s]"
      ]
     },
     "metadata": {},
     "output_type": "display_data"
    },
    {
     "name": "stdout",
     "output_type": "stream",
     "text": [
      "Epoch: 7   Loss: 4.0116   Accuracy: 0.0098  \n"
     ]
    },
    {
     "data": {
      "application/vnd.jupyter.widget-view+json": {
       "model_id": "bbb94153cd6d448e85e132e150142c01",
       "version_major": 2,
       "version_minor": 0
      },
      "text/plain": [
       "train epoch 8/50:   0%|          | 0/97 [00:00<?, ?it/s]"
      ]
     },
     "metadata": {},
     "output_type": "display_data"
    },
    {
     "data": {
      "application/vnd.jupyter.widget-view+json": {
       "model_id": "90240df92db5418abe66946f36faff57",
       "version_major": 2,
       "version_minor": 0
      },
      "text/plain": [
       "test  epoch 8/50:   0%|          | 0/16 [00:00<?, ?it/s]"
      ]
     },
     "metadata": {},
     "output_type": "display_data"
    },
    {
     "name": "stdout",
     "output_type": "stream",
     "text": [
      "Epoch: 8   Loss: 3.6610   Accuracy: 0.0098  \n"
     ]
    },
    {
     "data": {
      "application/vnd.jupyter.widget-view+json": {
       "model_id": "ff6d238dc12641cb9603f40712fa247b",
       "version_major": 2,
       "version_minor": 0
      },
      "text/plain": [
       "train epoch 9/50:   0%|          | 0/97 [00:00<?, ?it/s]"
      ]
     },
     "metadata": {},
     "output_type": "display_data"
    },
    {
     "data": {
      "application/vnd.jupyter.widget-view+json": {
       "model_id": "f3fe0c7765cd4a4383b7cd057cd9bb26",
       "version_major": 2,
       "version_minor": 0
      },
      "text/plain": [
       "test  epoch 9/50:   0%|          | 0/16 [00:00<?, ?it/s]"
      ]
     },
     "metadata": {},
     "output_type": "display_data"
    },
    {
     "name": "stdout",
     "output_type": "stream",
     "text": [
      "Epoch: 9   Loss: 3.2968   Accuracy: 0.0098  \n"
     ]
    },
    {
     "data": {
      "application/vnd.jupyter.widget-view+json": {
       "model_id": "90ca0445bf8d4de39d7071956adc2f42",
       "version_major": 2,
       "version_minor": 0
      },
      "text/plain": [
       "train epoch 10/50:   0%|          | 0/97 [00:00<?, ?it/s]"
      ]
     },
     "metadata": {},
     "output_type": "display_data"
    },
    {
     "data": {
      "application/vnd.jupyter.widget-view+json": {
       "model_id": "6a0901e3492341d09de8f5e11297f3fb",
       "version_major": 2,
       "version_minor": 0
      },
      "text/plain": [
       "test  epoch 10/50:   0%|          | 0/16 [00:00<?, ?it/s]"
      ]
     },
     "metadata": {},
     "output_type": "display_data"
    },
    {
     "name": "stdout",
     "output_type": "stream",
     "text": [
      "Epoch: 10  Loss: 3.2112   Accuracy: 0.0098  \n"
     ]
    },
    {
     "data": {
      "application/vnd.jupyter.widget-view+json": {
       "model_id": "9da9d8799a1a4ff5a344b6f2c5773534",
       "version_major": 2,
       "version_minor": 0
      },
      "text/plain": [
       "train epoch 11/50:   0%|          | 0/97 [00:00<?, ?it/s]"
      ]
     },
     "metadata": {},
     "output_type": "display_data"
    },
    {
     "data": {
      "application/vnd.jupyter.widget-view+json": {
       "model_id": "86ad6398b67f4f0a97633e52a51c67a8",
       "version_major": 2,
       "version_minor": 0
      },
      "text/plain": [
       "test  epoch 11/50:   0%|          | 0/16 [00:00<?, ?it/s]"
      ]
     },
     "metadata": {},
     "output_type": "display_data"
    },
    {
     "name": "stdout",
     "output_type": "stream",
     "text": [
      "Epoch: 11  Loss: 3.3573   Accuracy: 0.0098  \n"
     ]
    },
    {
     "data": {
      "application/vnd.jupyter.widget-view+json": {
       "model_id": "894b35127ee54f39aaa09d92e50ae30d",
       "version_major": 2,
       "version_minor": 0
      },
      "text/plain": [
       "train epoch 12/50:   0%|          | 0/97 [00:00<?, ?it/s]"
      ]
     },
     "metadata": {},
     "output_type": "display_data"
    },
    {
     "data": {
      "application/vnd.jupyter.widget-view+json": {
       "model_id": "5c30a9619f6c458886b107c881b2134e",
       "version_major": 2,
       "version_minor": 0
      },
      "text/plain": [
       "test  epoch 12/50:   0%|          | 0/16 [00:00<?, ?it/s]"
      ]
     },
     "metadata": {},
     "output_type": "display_data"
    },
    {
     "name": "stdout",
     "output_type": "stream",
     "text": [
      "Epoch: 12  Loss: 3.6018   Accuracy: 0.0098  \n"
     ]
    },
    {
     "data": {
      "application/vnd.jupyter.widget-view+json": {
       "model_id": "671ce1260aaa4d03bc34d9d4e8f0d4c2",
       "version_major": 2,
       "version_minor": 0
      },
      "text/plain": [
       "train epoch 13/50:   0%|          | 0/97 [00:00<?, ?it/s]"
      ]
     },
     "metadata": {},
     "output_type": "display_data"
    },
    {
     "data": {
      "application/vnd.jupyter.widget-view+json": {
       "model_id": "4030c974c907487aa5a8f771726a954b",
       "version_major": 2,
       "version_minor": 0
      },
      "text/plain": [
       "test  epoch 13/50:   0%|          | 0/16 [00:00<?, ?it/s]"
      ]
     },
     "metadata": {},
     "output_type": "display_data"
    },
    {
     "name": "stdout",
     "output_type": "stream",
     "text": [
      "Epoch: 13  Loss: 3.8776   Accuracy: 0.0098  \n"
     ]
    },
    {
     "data": {
      "application/vnd.jupyter.widget-view+json": {
       "model_id": "b0dfa763cf894d4ab0fe56de0779135a",
       "version_major": 2,
       "version_minor": 0
      },
      "text/plain": [
       "train epoch 14/50:   0%|          | 0/97 [00:00<?, ?it/s]"
      ]
     },
     "metadata": {},
     "output_type": "display_data"
    },
    {
     "data": {
      "application/vnd.jupyter.widget-view+json": {
       "model_id": "bc604fca8e794472904b41c25009297b",
       "version_major": 2,
       "version_minor": 0
      },
      "text/plain": [
       "test  epoch 14/50:   0%|          | 0/16 [00:00<?, ?it/s]"
      ]
     },
     "metadata": {},
     "output_type": "display_data"
    },
    {
     "name": "stdout",
     "output_type": "stream",
     "text": [
      "Epoch: 14  Loss: 3.3754   Accuracy: 0.0098  \n"
     ]
    },
    {
     "data": {
      "application/vnd.jupyter.widget-view+json": {
       "model_id": "5e3815910f1c4e5c92bd7d0f42fc0e19",
       "version_major": 2,
       "version_minor": 0
      },
      "text/plain": [
       "train epoch 15/50:   0%|          | 0/97 [00:00<?, ?it/s]"
      ]
     },
     "metadata": {},
     "output_type": "display_data"
    },
    {
     "data": {
      "application/vnd.jupyter.widget-view+json": {
       "model_id": "3460d7f068104f5f98c23e99ff0d83fe",
       "version_major": 2,
       "version_minor": 0
      },
      "text/plain": [
       "test  epoch 15/50:   0%|          | 0/16 [00:00<?, ?it/s]"
      ]
     },
     "metadata": {},
     "output_type": "display_data"
    },
    {
     "name": "stdout",
     "output_type": "stream",
     "text": [
      "Epoch: 15  Loss: 3.1971   Accuracy: 0.0098  \n"
     ]
    },
    {
     "data": {
      "application/vnd.jupyter.widget-view+json": {
       "model_id": "89f3c270aad344bb828d71a6390d82fe",
       "version_major": 2,
       "version_minor": 0
      },
      "text/plain": [
       "train epoch 16/50:   0%|          | 0/97 [00:00<?, ?it/s]"
      ]
     },
     "metadata": {},
     "output_type": "display_data"
    },
    {
     "data": {
      "application/vnd.jupyter.widget-view+json": {
       "model_id": "e9137e669bc54c998b419048418e1431",
       "version_major": 2,
       "version_minor": 0
      },
      "text/plain": [
       "test  epoch 16/50:   0%|          | 0/16 [00:00<?, ?it/s]"
      ]
     },
     "metadata": {},
     "output_type": "display_data"
    },
    {
     "name": "stdout",
     "output_type": "stream",
     "text": [
      "Epoch: 16  Loss: 2.7894   Accuracy: 0.0098  \n"
     ]
    },
    {
     "data": {
      "application/vnd.jupyter.widget-view+json": {
       "model_id": "476138ed95e54778878cc76980b27809",
       "version_major": 2,
       "version_minor": 0
      },
      "text/plain": [
       "train epoch 17/50:   0%|          | 0/97 [00:00<?, ?it/s]"
      ]
     },
     "metadata": {},
     "output_type": "display_data"
    },
    {
     "data": {
      "application/vnd.jupyter.widget-view+json": {
       "model_id": "05cb8ac7a0af4c5e813438fd1e9dea5a",
       "version_major": 2,
       "version_minor": 0
      },
      "text/plain": [
       "test  epoch 17/50:   0%|          | 0/16 [00:00<?, ?it/s]"
      ]
     },
     "metadata": {},
     "output_type": "display_data"
    },
    {
     "name": "stdout",
     "output_type": "stream",
     "text": [
      "Epoch: 17  Loss: 3.0284   Accuracy: 0.0098  \n"
     ]
    },
    {
     "data": {
      "application/vnd.jupyter.widget-view+json": {
       "model_id": "f7a4da9eab2a48c397895807187f5927",
       "version_major": 2,
       "version_minor": 0
      },
      "text/plain": [
       "train epoch 18/50:   0%|          | 0/97 [00:00<?, ?it/s]"
      ]
     },
     "metadata": {},
     "output_type": "display_data"
    },
    {
     "data": {
      "application/vnd.jupyter.widget-view+json": {
       "model_id": "b3fb5f01416d4c87808baa8448043c2e",
       "version_major": 2,
       "version_minor": 0
      },
      "text/plain": [
       "test  epoch 18/50:   0%|          | 0/16 [00:00<?, ?it/s]"
      ]
     },
     "metadata": {},
     "output_type": "display_data"
    },
    {
     "name": "stdout",
     "output_type": "stream",
     "text": [
      "Epoch: 18  Loss: 3.3715   Accuracy: 0.0098  \n"
     ]
    },
    {
     "data": {
      "application/vnd.jupyter.widget-view+json": {
       "model_id": "1653e48b12eb4ea4b5698cfc4c4e69d0",
       "version_major": 2,
       "version_minor": 0
      },
      "text/plain": [
       "train epoch 19/50:   0%|          | 0/97 [00:00<?, ?it/s]"
      ]
     },
     "metadata": {},
     "output_type": "display_data"
    },
    {
     "data": {
      "application/vnd.jupyter.widget-view+json": {
       "model_id": "9fa7bf922fb2433aa7183434e5c54118",
       "version_major": 2,
       "version_minor": 0
      },
      "text/plain": [
       "test  epoch 19/50:   0%|          | 0/16 [00:00<?, ?it/s]"
      ]
     },
     "metadata": {},
     "output_type": "display_data"
    },
    {
     "name": "stdout",
     "output_type": "stream",
     "text": [
      "Epoch: 19  Loss: 4.0080   Accuracy: 0.0069  \n"
     ]
    },
    {
     "data": {
      "application/vnd.jupyter.widget-view+json": {
       "model_id": "8ce7deee31d84bc5a0b5488ee00a5e55",
       "version_major": 2,
       "version_minor": 0
      },
      "text/plain": [
       "train epoch 20/50:   0%|          | 0/97 [00:00<?, ?it/s]"
      ]
     },
     "metadata": {},
     "output_type": "display_data"
    },
    {
     "data": {
      "application/vnd.jupyter.widget-view+json": {
       "model_id": "edd3dba89b8847838b3c6069405611f8",
       "version_major": 2,
       "version_minor": 0
      },
      "text/plain": [
       "test  epoch 20/50:   0%|          | 0/16 [00:00<?, ?it/s]"
      ]
     },
     "metadata": {},
     "output_type": "display_data"
    },
    {
     "name": "stdout",
     "output_type": "stream",
     "text": [
      "Epoch: 20  Loss: 3.7636   Accuracy: 0.0098  \n"
     ]
    },
    {
     "data": {
      "application/vnd.jupyter.widget-view+json": {
       "model_id": "3c7e34d26761435fab851129f23055f0",
       "version_major": 2,
       "version_minor": 0
      },
      "text/plain": [
       "train epoch 21/50:   0%|          | 0/97 [00:00<?, ?it/s]"
      ]
     },
     "metadata": {},
     "output_type": "display_data"
    },
    {
     "data": {
      "application/vnd.jupyter.widget-view+json": {
       "model_id": "2cefa6eb804b4c0996863a985efc512c",
       "version_major": 2,
       "version_minor": 0
      },
      "text/plain": [
       "test  epoch 21/50:   0%|          | 0/16 [00:00<?, ?it/s]"
      ]
     },
     "metadata": {},
     "output_type": "display_data"
    },
    {
     "name": "stdout",
     "output_type": "stream",
     "text": [
      "Epoch: 21  Loss: 3.7717   Accuracy: 0.0108  \n"
     ]
    },
    {
     "data": {
      "application/vnd.jupyter.widget-view+json": {
       "model_id": "c28ed10b84974e84b0b4cb200853eea6",
       "version_major": 2,
       "version_minor": 0
      },
      "text/plain": [
       "train epoch 22/50:   0%|          | 0/97 [00:00<?, ?it/s]"
      ]
     },
     "metadata": {},
     "output_type": "display_data"
    },
    {
     "data": {
      "application/vnd.jupyter.widget-view+json": {
       "model_id": "9dd0882c3c8c40f7b9a7bd9d244da63c",
       "version_major": 2,
       "version_minor": 0
      },
      "text/plain": [
       "test  epoch 22/50:   0%|          | 0/16 [00:00<?, ?it/s]"
      ]
     },
     "metadata": {},
     "output_type": "display_data"
    },
    {
     "name": "stdout",
     "output_type": "stream",
     "text": [
      "Epoch: 22  Loss: 3.8847   Accuracy: 0.0098  \n"
     ]
    },
    {
     "data": {
      "application/vnd.jupyter.widget-view+json": {
       "model_id": "dc2c2e1061fb42ecb097481d09282352",
       "version_major": 2,
       "version_minor": 0
      },
      "text/plain": [
       "train epoch 23/50:   0%|          | 0/97 [00:00<?, ?it/s]"
      ]
     },
     "metadata": {},
     "output_type": "display_data"
    },
    {
     "data": {
      "application/vnd.jupyter.widget-view+json": {
       "model_id": "049e1ad4216542148759689a582fbe03",
       "version_major": 2,
       "version_minor": 0
      },
      "text/plain": [
       "test  epoch 23/50:   0%|          | 0/16 [00:00<?, ?it/s]"
      ]
     },
     "metadata": {},
     "output_type": "display_data"
    },
    {
     "name": "stdout",
     "output_type": "stream",
     "text": [
      "Epoch: 23  Loss: 3.6412   Accuracy: 0.0098  \n"
     ]
    },
    {
     "data": {
      "application/vnd.jupyter.widget-view+json": {
       "model_id": "e236a68f6d324b2b9e2843301cccae3b",
       "version_major": 2,
       "version_minor": 0
      },
      "text/plain": [
       "train epoch 24/50:   0%|          | 0/97 [00:00<?, ?it/s]"
      ]
     },
     "metadata": {},
     "output_type": "display_data"
    },
    {
     "data": {
      "application/vnd.jupyter.widget-view+json": {
       "model_id": "945d69d624bc47488f29f7d11cc87679",
       "version_major": 2,
       "version_minor": 0
      },
      "text/plain": [
       "test  epoch 24/50:   0%|          | 0/16 [00:00<?, ?it/s]"
      ]
     },
     "metadata": {},
     "output_type": "display_data"
    },
    {
     "name": "stdout",
     "output_type": "stream",
     "text": [
      "Epoch: 24  Loss: 2.6318   Accuracy: 0.0098  \n"
     ]
    },
    {
     "data": {
      "application/vnd.jupyter.widget-view+json": {
       "model_id": "d37937700fca4bffb21186b12e885f5a",
       "version_major": 2,
       "version_minor": 0
      },
      "text/plain": [
       "train epoch 25/50:   0%|          | 0/97 [00:00<?, ?it/s]"
      ]
     },
     "metadata": {},
     "output_type": "display_data"
    },
    {
     "data": {
      "application/vnd.jupyter.widget-view+json": {
       "model_id": "f6645031cc504626aa0e014b0caa343b",
       "version_major": 2,
       "version_minor": 0
      },
      "text/plain": [
       "test  epoch 25/50:   0%|          | 0/16 [00:00<?, ?it/s]"
      ]
     },
     "metadata": {},
     "output_type": "display_data"
    },
    {
     "name": "stdout",
     "output_type": "stream",
     "text": [
      "Epoch: 25  Loss: 2.6320   Accuracy: 0.0098  \n"
     ]
    },
    {
     "data": {
      "application/vnd.jupyter.widget-view+json": {
       "model_id": "7e4b7458bce14db88cdb12265c5dc37e",
       "version_major": 2,
       "version_minor": 0
      },
      "text/plain": [
       "train epoch 26/50:   0%|          | 0/97 [00:00<?, ?it/s]"
      ]
     },
     "metadata": {},
     "output_type": "display_data"
    },
    {
     "data": {
      "application/vnd.jupyter.widget-view+json": {
       "model_id": "b89e54560c9f4cf1b1d353c247051a4f",
       "version_major": 2,
       "version_minor": 0
      },
      "text/plain": [
       "test  epoch 26/50:   0%|          | 0/16 [00:00<?, ?it/s]"
      ]
     },
     "metadata": {},
     "output_type": "display_data"
    },
    {
     "name": "stdout",
     "output_type": "stream",
     "text": [
      "Epoch: 26  Loss: 2.6309   Accuracy: 0.0098  \n"
     ]
    },
    {
     "data": {
      "application/vnd.jupyter.widget-view+json": {
       "model_id": "8dfd8bd2e418421880d12a7c459dc5e2",
       "version_major": 2,
       "version_minor": 0
      },
      "text/plain": [
       "train epoch 27/50:   0%|          | 0/97 [00:00<?, ?it/s]"
      ]
     },
     "metadata": {},
     "output_type": "display_data"
    },
    {
     "data": {
      "application/vnd.jupyter.widget-view+json": {
       "model_id": "8d400bd7bd99475abd132e66069d4541",
       "version_major": 2,
       "version_minor": 0
      },
      "text/plain": [
       "test  epoch 27/50:   0%|          | 0/16 [00:00<?, ?it/s]"
      ]
     },
     "metadata": {},
     "output_type": "display_data"
    },
    {
     "name": "stdout",
     "output_type": "stream",
     "text": [
      "Epoch: 27  Loss: 2.6317   Accuracy: 0.0098  \n"
     ]
    },
    {
     "data": {
      "application/vnd.jupyter.widget-view+json": {
       "model_id": "5e39b7d35e1f4f2484ec2162bcfbea01",
       "version_major": 2,
       "version_minor": 0
      },
      "text/plain": [
       "train epoch 28/50:   0%|          | 0/97 [00:00<?, ?it/s]"
      ]
     },
     "metadata": {},
     "output_type": "display_data"
    },
    {
     "data": {
      "application/vnd.jupyter.widget-view+json": {
       "model_id": "4761770a0f2c43efbff6ab5acc481e03",
       "version_major": 2,
       "version_minor": 0
      },
      "text/plain": [
       "test  epoch 28/50:   0%|          | 0/16 [00:00<?, ?it/s]"
      ]
     },
     "metadata": {},
     "output_type": "display_data"
    },
    {
     "name": "stdout",
     "output_type": "stream",
     "text": [
      "Epoch: 28  Loss: 2.6313   Accuracy: 0.0098  \n"
     ]
    },
    {
     "data": {
      "application/vnd.jupyter.widget-view+json": {
       "model_id": "6790841406eb491db0495c15f4683542",
       "version_major": 2,
       "version_minor": 0
      },
      "text/plain": [
       "train epoch 29/50:   0%|          | 0/97 [00:00<?, ?it/s]"
      ]
     },
     "metadata": {},
     "output_type": "display_data"
    },
    {
     "data": {
      "application/vnd.jupyter.widget-view+json": {
       "model_id": "4031207f452c43238ae6ff3f6c581f7e",
       "version_major": 2,
       "version_minor": 0
      },
      "text/plain": [
       "test  epoch 29/50:   0%|          | 0/16 [00:00<?, ?it/s]"
      ]
     },
     "metadata": {},
     "output_type": "display_data"
    },
    {
     "name": "stdout",
     "output_type": "stream",
     "text": [
      "Epoch: 29  Loss: 2.6312   Accuracy: 0.0098  \n"
     ]
    },
    {
     "data": {
      "application/vnd.jupyter.widget-view+json": {
       "model_id": "b5ebae34cdda47828986fb6dc7990cf5",
       "version_major": 2,
       "version_minor": 0
      },
      "text/plain": [
       "train epoch 30/50:   0%|          | 0/97 [00:00<?, ?it/s]"
      ]
     },
     "metadata": {},
     "output_type": "display_data"
    },
    {
     "data": {
      "application/vnd.jupyter.widget-view+json": {
       "model_id": "d9ee61093f6a45f7a3eeb83786c3e988",
       "version_major": 2,
       "version_minor": 0
      },
      "text/plain": [
       "test  epoch 30/50:   0%|          | 0/16 [00:00<?, ?it/s]"
      ]
     },
     "metadata": {},
     "output_type": "display_data"
    },
    {
     "name": "stdout",
     "output_type": "stream",
     "text": [
      "Epoch: 30  Loss: 2.6314   Accuracy: 0.0098  \n"
     ]
    },
    {
     "data": {
      "application/vnd.jupyter.widget-view+json": {
       "model_id": "dfa3542c370b48c28a8877a58a02d9bd",
       "version_major": 2,
       "version_minor": 0
      },
      "text/plain": [
       "train epoch 31/50:   0%|          | 0/97 [00:00<?, ?it/s]"
      ]
     },
     "metadata": {},
     "output_type": "display_data"
    },
    {
     "data": {
      "application/vnd.jupyter.widget-view+json": {
       "model_id": "cdff6a9c2dee43a08f83552bd0072315",
       "version_major": 2,
       "version_minor": 0
      },
      "text/plain": [
       "test  epoch 31/50:   0%|          | 0/16 [00:00<?, ?it/s]"
      ]
     },
     "metadata": {},
     "output_type": "display_data"
    },
    {
     "name": "stdout",
     "output_type": "stream",
     "text": [
      "Epoch: 31  Loss: 2.6316   Accuracy: 0.0098  \n"
     ]
    },
    {
     "data": {
      "application/vnd.jupyter.widget-view+json": {
       "model_id": "b2c43c5d4f2c426cabc773980b33b11a",
       "version_major": 2,
       "version_minor": 0
      },
      "text/plain": [
       "train epoch 32/50:   0%|          | 0/97 [00:00<?, ?it/s]"
      ]
     },
     "metadata": {},
     "output_type": "display_data"
    },
    {
     "data": {
      "application/vnd.jupyter.widget-view+json": {
       "model_id": "8247f62a59ab43f6997f93c9f852c93a",
       "version_major": 2,
       "version_minor": 0
      },
      "text/plain": [
       "test  epoch 32/50:   0%|          | 0/16 [00:00<?, ?it/s]"
      ]
     },
     "metadata": {},
     "output_type": "display_data"
    },
    {
     "name": "stdout",
     "output_type": "stream",
     "text": [
      "Epoch: 32  Loss: 2.6315   Accuracy: 0.0098  \n"
     ]
    },
    {
     "data": {
      "application/vnd.jupyter.widget-view+json": {
       "model_id": "be738617ad3643b3a936e9de622bcc6b",
       "version_major": 2,
       "version_minor": 0
      },
      "text/plain": [
       "train epoch 33/50:   0%|          | 0/97 [00:00<?, ?it/s]"
      ]
     },
     "metadata": {},
     "output_type": "display_data"
    },
    {
     "data": {
      "application/vnd.jupyter.widget-view+json": {
       "model_id": "42248c4140ab4eb9a780129b26dfeb69",
       "version_major": 2,
       "version_minor": 0
      },
      "text/plain": [
       "test  epoch 33/50:   0%|          | 0/16 [00:00<?, ?it/s]"
      ]
     },
     "metadata": {},
     "output_type": "display_data"
    },
    {
     "name": "stdout",
     "output_type": "stream",
     "text": [
      "Epoch: 33  Loss: 2.6307   Accuracy: 0.0098  \n"
     ]
    },
    {
     "data": {
      "application/vnd.jupyter.widget-view+json": {
       "model_id": "479fbbff7159409b81f1d88d72a0575c",
       "version_major": 2,
       "version_minor": 0
      },
      "text/plain": [
       "train epoch 34/50:   0%|          | 0/97 [00:00<?, ?it/s]"
      ]
     },
     "metadata": {},
     "output_type": "display_data"
    },
    {
     "data": {
      "application/vnd.jupyter.widget-view+json": {
       "model_id": "cb32e342235345a8a0249d2a9140cada",
       "version_major": 2,
       "version_minor": 0
      },
      "text/plain": [
       "test  epoch 34/50:   0%|          | 0/16 [00:00<?, ?it/s]"
      ]
     },
     "metadata": {},
     "output_type": "display_data"
    },
    {
     "name": "stdout",
     "output_type": "stream",
     "text": [
      "Epoch: 34  Loss: 2.6312   Accuracy: 0.0098  \n"
     ]
    },
    {
     "data": {
      "application/vnd.jupyter.widget-view+json": {
       "model_id": "1a614e063161430fb3e2e0c747ca5dc0",
       "version_major": 2,
       "version_minor": 0
      },
      "text/plain": [
       "train epoch 35/50:   0%|          | 0/97 [00:00<?, ?it/s]"
      ]
     },
     "metadata": {},
     "output_type": "display_data"
    },
    {
     "data": {
      "application/vnd.jupyter.widget-view+json": {
       "model_id": "c23426a0e994408b96f85b7e2fc8461a",
       "version_major": 2,
       "version_minor": 0
      },
      "text/plain": [
       "test  epoch 35/50:   0%|          | 0/16 [00:00<?, ?it/s]"
      ]
     },
     "metadata": {},
     "output_type": "display_data"
    },
    {
     "name": "stdout",
     "output_type": "stream",
     "text": [
      "Epoch: 35  Loss: 2.6309   Accuracy: 0.0098  \n"
     ]
    },
    {
     "data": {
      "application/vnd.jupyter.widget-view+json": {
       "model_id": "d4e4407de27445fb85d4a1a3d1cceea6",
       "version_major": 2,
       "version_minor": 0
      },
      "text/plain": [
       "train epoch 36/50:   0%|          | 0/97 [00:00<?, ?it/s]"
      ]
     },
     "metadata": {},
     "output_type": "display_data"
    },
    {
     "data": {
      "application/vnd.jupyter.widget-view+json": {
       "model_id": "d0293c77bd2a415dbbc0def9ffba30f1",
       "version_major": 2,
       "version_minor": 0
      },
      "text/plain": [
       "test  epoch 36/50:   0%|          | 0/16 [00:00<?, ?it/s]"
      ]
     },
     "metadata": {},
     "output_type": "display_data"
    },
    {
     "name": "stdout",
     "output_type": "stream",
     "text": [
      "Epoch: 36  Loss: 2.6308   Accuracy: 0.0098  \n"
     ]
    },
    {
     "data": {
      "application/vnd.jupyter.widget-view+json": {
       "model_id": "4767061c3e30462fa113b77c47770788",
       "version_major": 2,
       "version_minor": 0
      },
      "text/plain": [
       "train epoch 37/50:   0%|          | 0/97 [00:00<?, ?it/s]"
      ]
     },
     "metadata": {},
     "output_type": "display_data"
    },
    {
     "data": {
      "application/vnd.jupyter.widget-view+json": {
       "model_id": "320c238376704672a0fdbc9d6530d60a",
       "version_major": 2,
       "version_minor": 0
      },
      "text/plain": [
       "test  epoch 37/50:   0%|          | 0/16 [00:00<?, ?it/s]"
      ]
     },
     "metadata": {},
     "output_type": "display_data"
    },
    {
     "name": "stdout",
     "output_type": "stream",
     "text": [
      "Epoch: 37  Loss: 2.6311   Accuracy: 0.0098  \n"
     ]
    },
    {
     "data": {
      "application/vnd.jupyter.widget-view+json": {
       "model_id": "a4da6a81a9584c8eaea9cd9a7a029234",
       "version_major": 2,
       "version_minor": 0
      },
      "text/plain": [
       "train epoch 38/50:   0%|          | 0/97 [00:00<?, ?it/s]"
      ]
     },
     "metadata": {},
     "output_type": "display_data"
    },
    {
     "data": {
      "application/vnd.jupyter.widget-view+json": {
       "model_id": "7abf790b89de4960a9e01682b8312aee",
       "version_major": 2,
       "version_minor": 0
      },
      "text/plain": [
       "test  epoch 38/50:   0%|          | 0/16 [00:00<?, ?it/s]"
      ]
     },
     "metadata": {},
     "output_type": "display_data"
    },
    {
     "name": "stdout",
     "output_type": "stream",
     "text": [
      "Epoch: 38  Loss: 2.6307   Accuracy: 0.0098  \n"
     ]
    },
    {
     "data": {
      "application/vnd.jupyter.widget-view+json": {
       "model_id": "bf3b9be6e3be45b9809a2ab07bc51ba4",
       "version_major": 2,
       "version_minor": 0
      },
      "text/plain": [
       "train epoch 39/50:   0%|          | 0/97 [00:00<?, ?it/s]"
      ]
     },
     "metadata": {},
     "output_type": "display_data"
    },
    {
     "data": {
      "application/vnd.jupyter.widget-view+json": {
       "model_id": "a456015529b14b43a1d1f9d8ecf5803e",
       "version_major": 2,
       "version_minor": 0
      },
      "text/plain": [
       "test  epoch 39/50:   0%|          | 0/16 [00:00<?, ?it/s]"
      ]
     },
     "metadata": {},
     "output_type": "display_data"
    },
    {
     "name": "stdout",
     "output_type": "stream",
     "text": [
      "Epoch: 39  Loss: 2.6310   Accuracy: 0.0098  \n"
     ]
    },
    {
     "data": {
      "application/vnd.jupyter.widget-view+json": {
       "model_id": "09fd511d4e55443a8f43f9c75ddfcf40",
       "version_major": 2,
       "version_minor": 0
      },
      "text/plain": [
       "train epoch 40/50:   0%|          | 0/97 [00:00<?, ?it/s]"
      ]
     },
     "metadata": {},
     "output_type": "display_data"
    },
    {
     "data": {
      "application/vnd.jupyter.widget-view+json": {
       "model_id": "dffff0c5e6cd4a9a9d0b6fe151bfd04d",
       "version_major": 2,
       "version_minor": 0
      },
      "text/plain": [
       "test  epoch 40/50:   0%|          | 0/16 [00:00<?, ?it/s]"
      ]
     },
     "metadata": {},
     "output_type": "display_data"
    },
    {
     "name": "stdout",
     "output_type": "stream",
     "text": [
      "Epoch: 40  Loss: 2.6309   Accuracy: 0.0098  \n"
     ]
    },
    {
     "data": {
      "application/vnd.jupyter.widget-view+json": {
       "model_id": "004501ebc26f40a79db265f4b956eab8",
       "version_major": 2,
       "version_minor": 0
      },
      "text/plain": [
       "train epoch 41/50:   0%|          | 0/97 [00:00<?, ?it/s]"
      ]
     },
     "metadata": {},
     "output_type": "display_data"
    },
    {
     "data": {
      "application/vnd.jupyter.widget-view+json": {
       "model_id": "c8d34f9d298f4fb798a015dd105ecf3c",
       "version_major": 2,
       "version_minor": 0
      },
      "text/plain": [
       "test  epoch 41/50:   0%|          | 0/16 [00:00<?, ?it/s]"
      ]
     },
     "metadata": {},
     "output_type": "display_data"
    },
    {
     "name": "stdout",
     "output_type": "stream",
     "text": [
      "Epoch: 41  Loss: 2.6312   Accuracy: 0.0098  \n"
     ]
    },
    {
     "data": {
      "application/vnd.jupyter.widget-view+json": {
       "model_id": "7be56ddf78574aafb475f9f8efb5901c",
       "version_major": 2,
       "version_minor": 0
      },
      "text/plain": [
       "train epoch 42/50:   0%|          | 0/97 [00:00<?, ?it/s]"
      ]
     },
     "metadata": {},
     "output_type": "display_data"
    },
    {
     "data": {
      "application/vnd.jupyter.widget-view+json": {
       "model_id": "2c2ceb3ce6884943ad2eabedc2ccec78",
       "version_major": 2,
       "version_minor": 0
      },
      "text/plain": [
       "test  epoch 42/50:   0%|          | 0/16 [00:00<?, ?it/s]"
      ]
     },
     "metadata": {},
     "output_type": "display_data"
    },
    {
     "name": "stdout",
     "output_type": "stream",
     "text": [
      "Epoch: 42  Loss: 2.6305   Accuracy: 0.0098  \n"
     ]
    },
    {
     "data": {
      "application/vnd.jupyter.widget-view+json": {
       "model_id": "7fda9185f2b342ae84cf8d45cea36434",
       "version_major": 2,
       "version_minor": 0
      },
      "text/plain": [
       "train epoch 43/50:   0%|          | 0/97 [00:00<?, ?it/s]"
      ]
     },
     "metadata": {},
     "output_type": "display_data"
    },
    {
     "data": {
      "application/vnd.jupyter.widget-view+json": {
       "model_id": "2345c6145ce240fabbd90882071336ae",
       "version_major": 2,
       "version_minor": 0
      },
      "text/plain": [
       "test  epoch 43/50:   0%|          | 0/16 [00:00<?, ?it/s]"
      ]
     },
     "metadata": {},
     "output_type": "display_data"
    },
    {
     "name": "stdout",
     "output_type": "stream",
     "text": [
      "Epoch: 43  Loss: 2.6305   Accuracy: 0.0098  \n"
     ]
    },
    {
     "data": {
      "application/vnd.jupyter.widget-view+json": {
       "model_id": "ac5cbfb6efbe47a1b4a740df084bef44",
       "version_major": 2,
       "version_minor": 0
      },
      "text/plain": [
       "train epoch 44/50:   0%|          | 0/97 [00:00<?, ?it/s]"
      ]
     },
     "metadata": {},
     "output_type": "display_data"
    },
    {
     "data": {
      "application/vnd.jupyter.widget-view+json": {
       "model_id": "490cf033e2824aa0b2a4d90a40e36fe6",
       "version_major": 2,
       "version_minor": 0
      },
      "text/plain": [
       "test  epoch 44/50:   0%|          | 0/16 [00:00<?, ?it/s]"
      ]
     },
     "metadata": {},
     "output_type": "display_data"
    },
    {
     "name": "stdout",
     "output_type": "stream",
     "text": [
      "Epoch: 44  Loss: 2.6315   Accuracy: 0.0098  \n"
     ]
    },
    {
     "data": {
      "application/vnd.jupyter.widget-view+json": {
       "model_id": "daedb64875324bafafe4e883d2a12a0d",
       "version_major": 2,
       "version_minor": 0
      },
      "text/plain": [
       "train epoch 45/50:   0%|          | 0/97 [00:00<?, ?it/s]"
      ]
     },
     "metadata": {},
     "output_type": "display_data"
    },
    {
     "data": {
      "application/vnd.jupyter.widget-view+json": {
       "model_id": "7cdc1fa1d5914dde8aa6a11a5e4c216e",
       "version_major": 2,
       "version_minor": 0
      },
      "text/plain": [
       "test  epoch 45/50:   0%|          | 0/16 [00:00<?, ?it/s]"
      ]
     },
     "metadata": {},
     "output_type": "display_data"
    },
    {
     "name": "stdout",
     "output_type": "stream",
     "text": [
      "Epoch: 45  Loss: 2.6306   Accuracy: 0.0098  \n"
     ]
    },
    {
     "data": {
      "application/vnd.jupyter.widget-view+json": {
       "model_id": "fc599bd2389e48f4860b8990b3834a32",
       "version_major": 2,
       "version_minor": 0
      },
      "text/plain": [
       "train epoch 46/50:   0%|          | 0/97 [00:00<?, ?it/s]"
      ]
     },
     "metadata": {},
     "output_type": "display_data"
    },
    {
     "data": {
      "application/vnd.jupyter.widget-view+json": {
       "model_id": "7fa84761fc9a437b93024a122b9eceeb",
       "version_major": 2,
       "version_minor": 0
      },
      "text/plain": [
       "test  epoch 46/50:   0%|          | 0/16 [00:00<?, ?it/s]"
      ]
     },
     "metadata": {},
     "output_type": "display_data"
    },
    {
     "name": "stdout",
     "output_type": "stream",
     "text": [
      "Epoch: 46  Loss: 2.6313   Accuracy: 0.0098  \n"
     ]
    },
    {
     "data": {
      "application/vnd.jupyter.widget-view+json": {
       "model_id": "0b2152d1572e4d7a8573110cfaaeab62",
       "version_major": 2,
       "version_minor": 0
      },
      "text/plain": [
       "train epoch 47/50:   0%|          | 0/97 [00:00<?, ?it/s]"
      ]
     },
     "metadata": {},
     "output_type": "display_data"
    },
    {
     "data": {
      "application/vnd.jupyter.widget-view+json": {
       "model_id": "d19506abc7fd40bd84d618b1a4abb2b9",
       "version_major": 2,
       "version_minor": 0
      },
      "text/plain": [
       "test  epoch 47/50:   0%|          | 0/16 [00:00<?, ?it/s]"
      ]
     },
     "metadata": {},
     "output_type": "display_data"
    },
    {
     "name": "stdout",
     "output_type": "stream",
     "text": [
      "Epoch: 47  Loss: 2.6313   Accuracy: 0.0098  \n"
     ]
    },
    {
     "data": {
      "application/vnd.jupyter.widget-view+json": {
       "model_id": "a2f5e72520d2406db256cadb6a3eccc1",
       "version_major": 2,
       "version_minor": 0
      },
      "text/plain": [
       "train epoch 48/50:   0%|          | 0/97 [00:00<?, ?it/s]"
      ]
     },
     "metadata": {},
     "output_type": "display_data"
    },
    {
     "data": {
      "application/vnd.jupyter.widget-view+json": {
       "model_id": "f046726c802d4a19a4354d306b33e63b",
       "version_major": 2,
       "version_minor": 0
      },
      "text/plain": [
       "test  epoch 48/50:   0%|          | 0/16 [00:00<?, ?it/s]"
      ]
     },
     "metadata": {},
     "output_type": "display_data"
    },
    {
     "name": "stdout",
     "output_type": "stream",
     "text": [
      "Epoch: 48  Loss: 2.6307   Accuracy: 0.0098  \n"
     ]
    },
    {
     "data": {
      "application/vnd.jupyter.widget-view+json": {
       "model_id": "972ca011e19e428298b14a68ba610531",
       "version_major": 2,
       "version_minor": 0
      },
      "text/plain": [
       "train epoch 49/50:   0%|          | 0/97 [00:00<?, ?it/s]"
      ]
     },
     "metadata": {},
     "output_type": "display_data"
    },
    {
     "data": {
      "application/vnd.jupyter.widget-view+json": {
       "model_id": "681c4fac17bc4043940255d6b8dac8ba",
       "version_major": 2,
       "version_minor": 0
      },
      "text/plain": [
       "test  epoch 49/50:   0%|          | 0/16 [00:00<?, ?it/s]"
      ]
     },
     "metadata": {},
     "output_type": "display_data"
    },
    {
     "name": "stdout",
     "output_type": "stream",
     "text": [
      "Epoch: 49  Loss: 2.6310   Accuracy: 0.0098  \n"
     ]
    },
    {
     "data": {
      "application/vnd.jupyter.widget-view+json": {
       "model_id": "8b79f1a9a9be46d98616612f9db5c45c",
       "version_major": 2,
       "version_minor": 0
      },
      "text/plain": [
       "train epoch 50/50:   0%|          | 0/97 [00:00<?, ?it/s]"
      ]
     },
     "metadata": {},
     "output_type": "display_data"
    },
    {
     "data": {
      "application/vnd.jupyter.widget-view+json": {
       "model_id": "1803f053a0484dfc93458925fcaf231e",
       "version_major": 2,
       "version_minor": 0
      },
      "text/plain": [
       "test  epoch 50/50:   0%|          | 0/16 [00:00<?, ?it/s]"
      ]
     },
     "metadata": {},
     "output_type": "display_data"
    },
    {
     "name": "stdout",
     "output_type": "stream",
     "text": [
      "Epoch: 50  Loss: 2.6311   Accuracy: 0.0098  \n"
     ]
    },
    {
     "data": {
      "image/png": "[encoded data removed]",
      "text/plain": [
       "<Figure size 640x480 with 1 Axes>"
      ]
     },
     "metadata": {},
     "output_type": "display_data"
    },
    {
     "name": "stdout",
     "output_type": "stream",
     "text": [
      "Final Accuracy: 0.00980392156862745\n"
     ]
    }
   ],
   "source": [
    "# 导入必要的库\n",
    "import torch\n",
    "import torch.nn as nn\n",
    "import torch.optim as optim\n",
    "from torch.utils.data import DataLoader\n",
    "from torchvision import datasets, transforms, models\n",
    "from tqdm.notebook import tqdm\n",
    "import numpy as np\n",
    "import sys,os\n",
    "from torch.optim import lr_scheduler\n",
    "\n",
    "# 设置随机种子\n",
    "torch.manual_seed(0)\n",
    "batch_size = 64\n",
    "num_workers = 8  # 8个工作线程\n",
    "\n",
    "# 设置训练集的数据变换，进行数据增强(会生成新的图像,来丰富数据)\n",
    "trainform_train = transforms.Compose([\n",
    "    transforms.RandomRotation(30),              # 随机旋转 -30度到30度之间\n",
    "    \n",
    "    # 随机裁剪图像的一部分区域，然后将其调整为指定大小（224×224 像素）。\n",
    "    # 裁剪区域的大小和宽高比是随机的（默认范围：裁剪面积为原图的 0.08~1.0 倍，裁剪宽高比为 3/4~4/3）\n",
    "    # transforms.RandomResizedCrop((224, 224)),   # 随机比例裁剪并进行resize\n",
    "    \n",
    "    # 在原图中随机选择一个 224×224 的区域（不改变宽高比）。\n",
    "    transforms.RandomCrop(224),  # 比RandomResizedCrop计算量小\n",
    "\n",
    "    transforms.RandomHorizontalFlip(p = 0.5),   # 随机水平翻转\n",
    "    transforms.RandomVerticalFlip(p = 0.5),     # 随机垂直翻转\n",
    "    transforms.ToTensor(),                      # 将数据转换为张量,并归一化到[0,1]区间\n",
    "    # 对三通道数据进行归一化(均值，标准差)，数值是从ImageNet数据集上的百万张图片中随机抽样计算得到\n",
    "    # 这些值被广泛用于预训练模型（如 ResNet、VGG、AlexNet 等）的输入预处理。\n",
    "    transforms.Normalize(mean=[0.485, 0.456, 0.406], std=[0.229, 0.224, 0.225])\n",
    "])\n",
    "\n",
    "# 设置测试集的数据变换，不进行数据增强，仅使用resize和归一化\n",
    "transform_test = transforms.Compose([\n",
    "    transforms.Resize((224, 224)),  # 将图像的短边调整为指定长度（224 像素），长边按原始比例缩放\n",
    "    transforms.ToTensor(),  # 将数据转换为张量\n",
    "    # 对三通道数据进行归一化(均值，标准差)，数值是从ImageNet数据集上的百万张图片中随机抽样计算得到\n",
    "    transforms.Normalize(mean=[0.485, 0.456, 0.406], std=[0.229, 0.224, 0.225])\n",
    "])\n",
    "\n",
    "# 加载训练数据，需要特别注意的是Flowers102数据集，test簇的数据量较多些，可以选择使用\"test\"作为训练集(本地太慢,还是用原始分类)\n",
    "# https://www.robots.ox.ac.uk/~vgg/data/flowers/102/categories.html\n",
    "train_dataset = datasets.Flowers102(root='../data/flowers102', split=\"test\", download=True, transform=trainform_train)\n",
    "# 加载测试数据，使用\"test\"作为测试集\n",
    "test_dataset = datasets.Flowers102(root='../data/flowers102', split=\"train\", download=True, transform=transform_test)\n",
    "\n",
    "# 实例化训练数据加载器\n",
    "# num_workers参数指定了用于数据加载的子进程数量来加速数据加载\n",
    "# GPU模式启用pin_memory\n",
    "train_loader = DataLoader(train_dataset, batch_size=batch_size, shuffle=True,num_workers=num_workers,pin_memory=True,persistent_workers=True)\n",
    "# 实例化测试数据加载器\n",
    "test_loader = DataLoader(test_dataset, batch_size=batch_size, shuffle=False,num_workers=num_workers,pin_memory=True,persistent_workers=True)\n",
    "\n",
    "# 定义模型、优化器、损失函数\n",
    "# 使用预训练模型 - 简化架构适合CPU\n",
    "from torchvision.models import AlexNet_Weights\n",
    "# weights=AlexNet_Weights.IMAGENET1K_V1 等同于旧版的 pretrained=True，使用在 ImageNet 上预训练的权重\n",
    "# 如果你想要使用最新的预训练权重，可以用 weights=AlexNet_Weights.DEFAULT\n",
    "# model = models.alexnet(weights=AlexNet_Weights.DEFAULT)\n",
    "# 冻结大部分预训练层，只训练最后几层\n",
    "# for param in list(model.parameters())[:-4]:\n",
    "#     param.requires_grad = False\n",
    "# 修改分类器适应Flower102\n",
    "# 简化分类器结构\n",
    "# num_ftrs = model.classifier[6].in_features\n",
    "# model.classifier[6] = nn.Linear(num_ftrs, 102)\n",
    "model = AlexNet(num_classes=102).to(device)\n",
    "model = model.to(device)\n",
    "\n",
    "\n",
    "# 优化器 - 使用针对GPU优化的AdamW\n",
    "optimizer = optim.AdamW(\n",
    "    model.parameters(), \n",
    "    lr=0.001,  # AdamW通常使用较低的学习率\n",
    "    weight_decay=1e-4\n",
    ")\n",
    "\n",
    "# 设置epoch数并开始训练\n",
    "num_epochs = 50  # 设置epoch数\n",
    "\n",
    "criterion = nn.CrossEntropyLoss().to(device)\n",
    "\n",
    "loss_history = []  # 创建损失历史记录列表\n",
    "acc_history = []   # 创建准确率历史记录列表\n",
    "\n",
    "\n",
    "# 检查模型设备\n",
    "print(f\"模型主设备: {next(model.parameters()).device}\")\n",
    "# 递归检查所有参数\n",
    "print(\"\\n检查所有模型参数的设备:\")\n",
    "for name, param in model.named_parameters():\n",
    "    if param.device.type != 'mps':\n",
    "        print(f\"警告: 参数 {name} 在 {param.device} 而非 MPS 设备上!\")\n",
    "# 检查损失函数设备\n",
    "print(f\"损失函数设备: {criterion.device if hasattr(criterion, 'device') else 'N/A'}\")\n",
    "# 检查优化器\n",
    "print(f\"优化器参数设备: {optimizer.param_groups[0]['params'][0].device}\")\n",
    "\n",
    "\n",
    "# 检查数据加载器\n",
    "# print(\"\\n检查数据加载器输出的设备:\")\n",
    "# inputs, labels = next(iter(dataloaders['train']))\n",
    "# print(f\"输入数据设备: {inputs.device}\")\n",
    "# print(f\"标签设备: {labels.device}\")\n",
    "\n",
    "\n",
    "# tqdm用于显示进度条并评估任务时间开销\n",
    "for epoch in tqdm(range(num_epochs)):\n",
    "    # 记录损失和预测正确数\n",
    "    total_loss = 0\n",
    "    total_correct = 0\n",
    "    \n",
    "    # 批量训练\n",
    "    model.train()\n",
    "    progress_bar = tqdm(train_loader, total=len(train_loader), desc=f'train epoch {epoch+1}/{num_epochs}')\n",
    "    for inputs, labels in progress_bar:\n",
    "        # 将数据转移到指定计算资源设备上\n",
    "        inputs = inputs.to(device, non_blocking=True)\n",
    "        labels = labels.to(device, non_blocking=True)\n",
    "        # 预测、损失函数、反向传播\n",
    "        optimizer.zero_grad(set_to_none=True)\n",
    "        outputs = model(inputs)\n",
    "        loss = criterion(outputs, labels)\n",
    "        loss.backward()\n",
    "        optimizer.step()\n",
    "        # scheduler.step()\n",
    "        # 记录训练集loss\n",
    "        total_loss += loss.item()\n",
    "        progress_bar.set_postfix({'loss': f'{np.log10(loss.item()):.4f}','lr':f'{optimizer.param_groups[0]['lr']:.4f}'})\n",
    "        \n",
    "    \n",
    "    # 测试模型，不计算梯度\n",
    "    model.eval()\n",
    "    with torch.no_grad():\n",
    "        # progress_bar = tqdm(enumerate(test_loader), total=len(test_loader), desc=f'test epoch {epoch+1}/{num_epochs}')\n",
    "        progress_bar = tqdm(test_loader, total=len(test_loader), desc=f'test  epoch {epoch+1}/{num_epochs}')\n",
    "        for inputs, labels in progress_bar:\n",
    "            # 将数据转移到指定计算资源设备上\n",
    "            inputs = inputs.to(device)\n",
    "            labels = labels.to(device)\n",
    "            \n",
    "            # 预测\n",
    "            outputs = model(inputs)\n",
    "            # 记录测试集预测正确数\n",
    "            total_correct += (outputs.argmax(1) == labels).sum().item()\n",
    "            # progress_bar.set_postfix({'acc': f'{100 * correct / total:.2f}%'})\n",
    "\n",
    "        \n",
    "    # 记录训练集损失和测试集准确率\n",
    "    loss_history.append(np.log10(total_loss))  # 将损失加入损失历史记录列表，由于数值有时较大，这里取对数\n",
    "    acc_history.append(total_correct / len(test_dataset))# 将准确率加入准确率历史记录列表\n",
    "    \n",
    "    # 打印中间值\n",
    "    tqdm.write(f\"Epoch: {epoch+1:<3} Loss: {loss_history[-1]:<8.4f} Accuracy: {acc_history[-1]:<8.4f}\")\n",
    "\n",
    "# 使用Matplotlib绘制损失和准确率的曲线图\n",
    "import matplotlib.pyplot as plt\n",
    "plt.plot(loss_history, label='loss')\n",
    "plt.plot(acc_history, label='accuracy')\n",
    "plt.legend()\n",
    "plt.show()\n",
    "\n",
    "# 输出准确率\n",
    "print(\"Final Accuracy:\", acc_history[-1])"
   ]
  }
 ],
 "metadata": {
  "kernelspec": {
   "display_name": "DL",
   "language": "python",
   "name": "python3"
  },
  "language_info": {
   "codemirror_mode": {
    "name": "ipython",
    "version": 3
   },
   "file_extension": ".py",
   "mimetype": "text/x-python",
   "name": "python",
   "nbconvert_exporter": "python",
   "pygments_lexer": "ipython3",
   "version": "3.12.11"
  }
 },
 "nbformat": 4,
 "nbformat_minor": 5
}
